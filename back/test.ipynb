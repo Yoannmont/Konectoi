{
 "cells": [
  {
   "cell_type": "code",
   "execution_count": 1,
   "metadata": {},
   "outputs": [],
   "source": [
    "import flask"
   ]
  },
  {
   "cell_type": "code",
   "execution_count": 2,
   "metadata": {},
   "outputs": [
    {
     "name": "stdout",
     "output_type": "stream",
     "text": [
      "Looking in indexes: https://pypi.org/simple, https://pypi.ngc.nvidia.comNote: you may need to restart the kernel to use updated packages.\n",
      "\n",
      "Collecting flask-cors\n",
      "  Downloading Flask_Cors-4.0.0-py2.py3-none-any.whl.metadata (5.4 kB)\n",
      "Requirement already satisfied: Flask>=0.9 in c:\\users\\monic\\.conda\\envs\\test\\lib\\site-packages (from flask-cors) (3.0.1)\n",
      "Requirement already satisfied: Werkzeug>=3.0.0 in c:\\users\\monic\\.conda\\envs\\test\\lib\\site-packages (from Flask>=0.9->flask-cors) (3.0.1)\n",
      "Requirement already satisfied: Jinja2>=3.1.2 in c:\\users\\monic\\.conda\\envs\\test\\lib\\site-packages (from Flask>=0.9->flask-cors) (3.1.3)\n",
      "Requirement already satisfied: itsdangerous>=2.1.2 in c:\\users\\monic\\.conda\\envs\\test\\lib\\site-packages (from Flask>=0.9->flask-cors) (2.1.2)\n",
      "Requirement already satisfied: click>=8.1.3 in c:\\users\\monic\\.conda\\envs\\test\\lib\\site-packages (from Flask>=0.9->flask-cors) (8.1.7)\n",
      "Requirement already satisfied: blinker>=1.6.2 in c:\\users\\monic\\.conda\\envs\\test\\lib\\site-packages (from Flask>=0.9->flask-cors) (1.7.0)\n",
      "Requirement already satisfied: colorama in c:\\users\\monic\\.conda\\envs\\test\\lib\\site-packages (from click>=8.1.3->Flask>=0.9->flask-cors) (0.4.6)\n",
      "Requirement already satisfied: MarkupSafe>=2.0 in c:\\users\\monic\\.conda\\envs\\test\\lib\\site-packages (from Jinja2>=3.1.2->Flask>=0.9->flask-cors) (2.1.5)\n",
      "Downloading Flask_Cors-4.0.0-py2.py3-none-any.whl (14 kB)\n",
      "Installing collected packages: flask-cors\n",
      "Successfully installed flask-cors-4.0.0\n"
     ]
    }
   ],
   "source": [
    "%pip install flask-cors"
   ]
  }
 ],
 "metadata": {
  "kernelspec": {
   "display_name": "base",
   "language": "python",
   "name": "python3"
  },
  "language_info": {
   "codemirror_mode": {
    "name": "ipython",
    "version": 3
   },
   "file_extension": ".py",
   "mimetype": "text/x-python",
   "name": "python",
   "nbconvert_exporter": "python",
   "pygments_lexer": "ipython3",
   "version": "3.12.0"
  }
 },
 "nbformat": 4,
 "nbformat_minor": 2
}
